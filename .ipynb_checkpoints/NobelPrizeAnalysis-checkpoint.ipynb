{
 "cells": [
  {
   "cell_type": "markdown",
   "id": "4197f902-c868-4c87-abbd-c276c332781b",
   "metadata": {},
   "source": [
    "# Nobel Prize Analysis"
   ]
  },
  {
   "cell_type": "code",
   "execution_count": 4,
   "id": "494c1e8e-5512-4d26-bc95-14546708c719",
   "metadata": {},
   "outputs": [],
   "source": [
    "import pandas as pd\n",
    "import numpy as np\n",
    "import plotly.express as px\n",
    "import seaborn as sns\n",
    "import matplotlib.pyplot as plt"
   ]
  },
  {
   "cell_type": "markdown",
   "id": "87cd7967-b7cc-4df5-847b-06c2fce2bd63",
   "metadata": {},
   "source": [
    "### Data Exploration & Cleaning"
   ]
  },
  {
   "cell_type": "code",
   "execution_count": 9,
   "id": "689457d9-51a7-4fe0-a8ea-622eab766acd",
   "metadata": {},
   "outputs": [],
   "source": [
    "data = pd.read_csv('nobel_prize_data.csv')"
   ]
  },
  {
   "cell_type": "code",
   "execution_count": null,
   "id": "84cea6ee-77a0-41c5-9551-cfba32232938",
   "metadata": {},
   "outputs": [],
   "source": []
  }
 ],
 "metadata": {
  "kernelspec": {
   "display_name": "Python 3 (ipykernel)",
   "language": "python",
   "name": "python3"
  },
  "language_info": {
   "codemirror_mode": {
    "name": "ipython",
    "version": 3
   },
   "file_extension": ".py",
   "mimetype": "text/x-python",
   "name": "python",
   "nbconvert_exporter": "python",
   "pygments_lexer": "ipython3",
   "version": "3.12.4"
  }
 },
 "nbformat": 4,
 "nbformat_minor": 5
}
